{
 "cells": [
  {
   "cell_type": "markdown",
   "metadata": {},
   "source": [
    "#### Вариант №5\n",
    "\n",
    "||Первый|Второй|Третий|Четвертый|\n",
    "|---|---|---|---|---|\n",
    "|Первый|1|2|3|1|\n",
    "|Второй|0.5|1|3|1|\n",
    "|Третий|0.33|0.33|1|0.5|\n",
    "|Четвертый|1|1|2|1|"
   ]
  },
  {
   "cell_type": "code",
   "execution_count": 261,
   "metadata": {},
   "outputs": [],
   "source": [
    "import numpy as np"
   ]
  },
  {
   "cell_type": "code",
   "execution_count": 262,
   "metadata": {},
   "outputs": [
    {
     "name": "stdout",
     "output_type": "stream",
     "text": [
      "Нормализованная матрица: \n",
      " [[0.14285714 0.28571429 0.42857143 0.14285714]\n",
      " [0.09090909 0.18181818 0.54545455 0.18181818]\n",
      " [0.15277778 0.15277778 0.46296296 0.23148148]\n",
      " [0.2        0.2        0.4        0.2       ]]\n"
     ]
    }
   ],
   "source": [
    "matrix = np.array([\n",
    "    [1, 2, 3, 1],\n",
    "    [0.5, 1, 3, 1],\n",
    "    [0.33, 0.33, 1, 0.5],\n",
    "    [1, 1, 2, 1]\n",
    "])\n",
    "\n",
    "normalized_matrix = matrix / matrix.sum(axis=1, keepdims=True)\n",
    "\n",
    "print(\"Нормализованная матрица: \\n\", normalized_matrix)\n"
   ]
  },
  {
   "cell_type": "code",
   "execution_count": 263,
   "metadata": {},
   "outputs": [
    {
     "name": "stdout",
     "output_type": "stream",
     "text": [
      "λmax: (4.076676945835413+0j)\n",
      "Собственные значения: [ 4.07667695+0.j         -0.00691074+0.57590852j -0.00691074-0.57590852j\n",
      " -0.06285547+0.j        ]\n",
      "Собственные векторы:\n",
      " [[ 0.68112955+0.j         -0.73125975+0.j         -0.73125975-0.j\n",
      "  -0.56687091+0.j        ]\n",
      " [ 0.47987697+0.j          0.09529148-0.47933042j  0.09529148+0.47933042j\n",
      "   0.34046658+0.j        ]\n",
      " [ 0.20780645+0.j          0.16483358+0.03174468j  0.16483358-0.03174468j\n",
      "  -0.26062109+0.j        ]\n",
      " [ 0.5124423 +0.j          0.0512296 +0.44228809j  0.0512296 -0.44228809j\n",
      "   0.70343197+0.j        ]]\n",
      "Главный собственный вектор: [0.68112955+0.j 0.47987697+0.j 0.20780645+0.j 0.5124423 +0.j]\n",
      "Вектор весов (приоритетов): [0.36206121+0.j 0.25508339+0.j 0.11046159+0.j 0.27239382+0.j]\n"
     ]
    }
   ],
   "source": [
    "eigenvalues, eigenvectors = np.linalg.eig(matrix)\n",
    "max_index = np.argmax(eigenvalues)\n",
    "principal_eigenvector = eigenvectors[:, max_index]\n",
    "weights = principal_eigenvector / np.sum(principal_eigenvector)\n",
    "λmax = max(eigenvalues)\n",
    "\n",
    "print(\"λmax:\", λmax)\n",
    "print(\"Собственные значения:\", eigenvalues)\n",
    "print(\"Собственные векторы:\\n\", eigenvectors)\n",
    "print(\"Главный собственный вектор:\", principal_eigenvector)\n",
    "print(\"Вектор весов (приоритетов):\", weights)"
   ]
  },
  {
   "cell_type": "markdown",
   "metadata": {},
   "source": [
    "##### EM"
   ]
  },
  {
   "cell_type": "code",
   "execution_count": 264,
   "metadata": {},
   "outputs": [
    {
     "name": "stdout",
     "output_type": "stream",
     "text": [
      "Веса каналов (метод ЕМ): [0.14416284 0.20462238 0.46266194 0.18855284]\n"
     ]
    }
   ],
   "source": [
    "eigenvalues, eigenvectors = np.linalg.eig(matrix.T)\n",
    "max_eigenvalue_index = np.argmax(eigenvalues)\n",
    "weights = np.real_if_close(eigenvectors[:, max_eigenvalue_index].T / np.sum(eigenvectors[:, max_eigenvalue_index]))\n",
    "\n",
    "print(\"Веса каналов (метод ЕМ):\", weights)"
   ]
  },
  {
   "cell_type": "markdown",
   "metadata": {},
   "source": [
    "##### RGMM"
   ]
  },
  {
   "cell_type": "code",
   "execution_count": 265,
   "metadata": {},
   "outputs": [
    {
     "name": "stdout",
     "output_type": "stream",
     "text": [
      "Веса каналов (метод RGMM): [0.36028387 0.25475916 0.11120043 0.27375654]\n"
     ]
    }
   ],
   "source": [
    "geometric_means = np.power(np.prod(matrix, axis=1), 1/len(matrix))\n",
    "weights_rgmm = geometric_means / np.sum(geometric_means)\n",
    "\n",
    "print(\"Веса каналов (метод RGMM):\", weights_rgmm)\n"
   ]
  },
  {
   "cell_type": "markdown",
   "metadata": {},
   "source": [
    "##### AN"
   ]
  },
  {
   "cell_type": "code",
   "execution_count": 266,
   "metadata": {},
   "outputs": [
    {
     "name": "stdout",
     "output_type": "stream",
     "text": [
      "Веса каналов (метод AN): [0.14416284 0.20462238 0.46266194 0.18855284]\n"
     ]
    }
   ],
   "source": [
    "eigenvalues_an, eigenvectors_an = np.linalg.eig(matrix.T)\n",
    "max_eigenvalue_index_an = np.argmax(eigenvalues_an)\n",
    "weights_an = np.real_if_close(eigenvectors_an[:, max_eigenvalue_index_an].T / np.sum(eigenvectors_an[:, max_eigenvalue_index_an]))\n",
    "\n",
    "print(\"Веса каналов (метод AN):\", weights_an)"
   ]
  },
  {
   "cell_type": "markdown",
   "metadata": {},
   "source": [
    "##### Линия"
   ]
  },
  {
   "cell_type": "code",
   "execution_count": 267,
   "metadata": {},
   "outputs": [
    {
     "name": "stdout",
     "output_type": "stream",
     "text": [
      "Веса каналов (метод 'линия'): {'A': 0.11111111111111112, 'C': 0.6666666666666667, 'D': 0.22222222222222224, 'B': 0.2222222222222222}\n"
     ]
    }
   ],
   "source": [
    "preference_values = {\n",
    "    'A': 0.5,\n",
    "    'C': 3,\n",
    "    'D': 1,\n",
    "}\n",
    "\n",
    "weight_b = 1 / sum(preference_values.values())\n",
    "\n",
    "weights_line_method = {}\n",
    "for alternative in preference_values:\n",
    "    weight = preference_values[alternative] * weight_b\n",
    "    weights_line_method[alternative] = weight\n",
    "\n",
    "total_weight = sum(weights_line_method.values())\n",
    "normalized_weights_line_method = {alternative: weight / total_weight for alternative, weight in weights_line_method.items()}\n",
    "\n",
    "normalized_weights_line_method['B'] = weight_b\n",
    "\n",
    "print(\"Веса каналов (метод 'линия'):\", normalized_weights_line_method)\n"
   ]
  },
  {
   "cell_type": "markdown",
   "metadata": {},
   "source": [
    "##### MRCI"
   ]
  },
  {
   "cell_type": "code",
   "execution_count": 268,
   "metadata": {},
   "outputs": [
    {
     "name": "stdout",
     "output_type": "stream",
     "text": [
      "Индексы согласованности для сгенерированных матриц:\n",
      "Матрица 1: CI = 5.540551565980565\n",
      "Матрица 2: CI = 5.586124760703878\n",
      "Матрица 3: CI = 4.20238215268143\n",
      "Матрица 4: CI = 6.311248864480748\n",
      "Матрица 5: CI = 5.167219461586062\n",
      "Матрица 6: CI = 4.929775831647606\n",
      "Матрица 7: CI = 5.717994330707232\n",
      "Матрица 8: CI = 4.0549153692473885\n",
      "Матрица 9: CI = 6.155071926893867\n",
      "Матрица 10: CI = 4.869914836659809\n",
      "\n",
      "Среднее значение индексов согласованности (MRCI): 5.253519910058859\n"
     ]
    }
   ],
   "source": [
    "def calculate_CI(matrix):\n",
    "    eigenvalues, _ = np.linalg.eig(matrix)\n",
    "    max_index = np.argmax(eigenvalues)\n",
    "    max_eigenvalue = eigenvalues[max_index].real\n",
    "    n = len(matrix)\n",
    "    CI = (max_eigenvalue - n) / (n - 1)\n",
    "    return CI\n",
    "\n",
    "num_matrices = 10\n",
    "matrix_size = 4\n",
    "\n",
    "CI_values = []\n",
    "\n",
    "for _ in range(num_matrices):\n",
    "    random_matrix = np.random.randint(1, 10, size=(matrix_size, matrix_size))\n",
    "    CI = calculate_CI(random_matrix)\n",
    "    CI_values.append(CI)\n",
    "\n",
    "MRCI = np.mean(CI_values)\n",
    "\n",
    "print(\"Индексы согласованности для сгенерированных матриц:\")\n",
    "for i, CI in enumerate(CI_values, 1):\n",
    "    print(f\"Матрица {i}: CI = {CI}\")\n",
    "\n",
    "print(f\"\\nСреднее значение индексов согласованности (MRCI): {MRCI}\")\n"
   ]
  },
  {
   "cell_type": "markdown",
   "metadata": {},
   "source": [
    "$$\n",
    "CI = \\frac{λ_{max} - n}{n - 1}\n",
    "$$"
   ]
  },
  {
   "cell_type": "code",
   "execution_count": 269,
   "metadata": {},
   "outputs": [
    {
     "name": "stdout",
     "output_type": "stream",
     "text": [
      "CI: (0.02555898194513754+0j)\n"
     ]
    }
   ],
   "source": [
    "CI = (λmax - len(matrix)) / (len(matrix) - 1)\n",
    "print(\"CI:\", CI)"
   ]
  },
  {
   "cell_type": "markdown",
   "metadata": {},
   "source": [
    "$$\n",
    "CR = \\frac{CI}{MRCI}\n",
    "$$"
   ]
  },
  {
   "cell_type": "code",
   "execution_count": 270,
   "metadata": {},
   "outputs": [
    {
     "name": "stdout",
     "output_type": "stream",
     "text": [
      "Отношение согласованности CR: (0.004865115652498057+0j)\n"
     ]
    }
   ],
   "source": [
    "CR = CI/MRCI\n",
    "\n",
    "print(\"Отношение согласованности CR:\", CR)"
   ]
  },
  {
   "cell_type": "markdown",
   "metadata": {},
   "source": [
    "$$\n",
    "GCI = \\frac{λ_{max} - n}{n - 1}\n",
    "$$"
   ]
  },
  {
   "cell_type": "code",
   "execution_count": 271,
   "metadata": {},
   "outputs": [
    {
     "name": "stdout",
     "output_type": "stream",
     "text": [
      "Геометрический индекс согласованности GCI: (0.02555898194513754+0j)\n"
     ]
    }
   ],
   "source": [
    "GCI = (λmax - len(matrix)) / (len(matrix) - 1)\n",
    "print(\"Геометрический индекс согласованности GCI:\", GCI)"
   ]
  },
  {
   "cell_type": "markdown",
   "metadata": {},
   "source": [
    "##### HM(s)"
   ]
  },
  {
   "cell_type": "code",
   "execution_count": 272,
   "metadata": {},
   "outputs": [
    {
     "name": "stdout",
     "output_type": "stream",
     "text": [
      "Гармоническое среднее для строки 1: 0.20168067226890754\n",
      "Гармоническое среднее для строки 2: 0.16783216783216784\n",
      "Гармоническое среднее для строки 3: 0.20438498699368265\n",
      "Гармоническое среднее для строки 4: 0.22857142857142856\n"
     ]
    }
   ],
   "source": [
    "def calculate_hm(row):\n",
    "    n = len(row)\n",
    "    harmonic_sum = sum(1 / element for element in row)\n",
    "    hm = n / harmonic_sum\n",
    "    return hm\n",
    "\n",
    "HMs = [calculate_hm(row) for row in normalized_matrix]\n",
    "\n",
    "for i, hm in enumerate(HMs):\n",
    "    print(f\"Гармоническое среднее для строки {i + 1}: {hm}\")"
   ]
  },
  {
   "cell_type": "markdown",
   "metadata": {},
   "source": [
    "$$\n",
    "HCI(n) = \\frac{(HM(s) - n)(n + 1)}{n(n-1)}\n",
    "$$"
   ]
  },
  {
   "cell_type": "code",
   "execution_count": 273,
   "metadata": {},
   "outputs": [
    {
     "name": "stdout",
     "output_type": "stream",
     "text": [
      "Гармонический индекс согласованности (HCI): (0.0283988688279306+0j)\n"
     ]
    }
   ],
   "source": [
    "n = matrix.shape[0]\n",
    "RI = {3: 0.58, 4: 0.9, 5: 1.12, 6: 1.24, 7: 1.32, 8: 1.41, 9: 1.45, 10: 1.49}[n]\n",
    "HCI = CI / RI\n",
    "\n",
    "print(\"Гармонический индекс согласованности (HCI):\", HCI)"
   ]
  },
  {
   "cell_type": "markdown",
   "metadata": {},
   "source": [
    "##### HRCI(n)"
   ]
  },
  {
   "cell_type": "markdown",
   "metadata": {},
   "source": [
    "$$\n",
    "HCR(n)=\\frac{HCI(n)}{HRCI(n)}\n",
    "$$"
   ]
  },
  {
   "cell_type": "code",
   "execution_count": 274,
   "metadata": {},
   "outputs": [
    {
     "name": "stdout",
     "output_type": "stream",
     "text": [
      "Гармонические отношения согласованности HCR: (0.03190884137969731+0j)\n"
     ]
    }
   ],
   "source": [
    "HCR = HCI / 0.89\n",
    "print(\"Гармонические отношения согласованности HCR:\", HCR)"
   ]
  },
  {
   "cell_type": "markdown",
   "metadata": {},
   "source": [
    "$$\n",
    "\\begin{align*}\n",
    "k_c &= \\min_{h=1,\\dots,5} k_c(R_h) \n",
    "\\end{align*}\n",
    "$$"
   ]
  },
  {
   "cell_type": "code",
   "execution_count": 275,
   "metadata": {},
   "outputs": [
    {
     "name": "stdout",
     "output_type": "stream",
     "text": [
      "Спектральный коэффициент согласованности (kc): (0.2499999999999999-0j)\n"
     ]
    }
   ],
   "source": [
    "def calculate_spectrum(matrix):\n",
    "    eigenvalues, eigenvectors = np.linalg.eig(matrix)\n",
    "    max_index = np.argmax(eigenvalues)\n",
    "    principal_eigenvector = eigenvectors[:, max_index]\n",
    "    return principal_eigenvector / np.sum(principal_eigenvector)\n",
    "\n",
    "n_matrices = 5\n",
    "\n",
    "spectra = []\n",
    "for _ in range(n_matrices):\n",
    "    random_matrix = np.random.rand(normalized_matrix.shape[0], normalized_matrix.shape[1])\n",
    "    random_matrix /= random_matrix.sum(axis=1)[:, np.newaxis]\n",
    "    spectrum = calculate_spectrum(random_matrix)\n",
    "    spectra.append(spectrum)\n",
    "\n",
    "kc_values = [np.min(kc) for kc in spectra]\n",
    "kc = min(kc_values)\n",
    "\n",
    "print(\"Спектральный коэффициент согласованности (kc):\", kc)"
   ]
  },
  {
   "cell_type": "code",
   "execution_count": 276,
   "metadata": {},
   "outputs": [
    {
     "name": "stdout",
     "output_type": "stream",
     "text": [
      "Нормализованная матрица:\n",
      " [[0.13793103 0.06896552 0.03448276 0.27586207 0.13793103 0.06896552\n",
      "  0.27586207]\n",
      " [0.27586207 0.13793103 0.03448276 0.06896552 0.13793103 0.06896552\n",
      "  0.27586207]\n",
      " [0.22048286 0.22048286 0.05512071 0.11024143 0.27560357 0.11024143\n",
      "  0.00782714]\n",
      " [0.04545455 0.18181818 0.04545455 0.09090909 0.18181818 0.09090909\n",
      "  0.36363636]\n",
      " [0.16129032 0.16129032 0.03225806 0.08064516 0.16129032 0.08064516\n",
      "  0.32258065]\n",
      " [0.16       0.16       0.04       0.08       0.16       0.08\n",
      "  0.32      ]\n",
      " [0.05       0.05       0.7        0.025      0.05       0.025\n",
      "  0.1       ]]\n"
     ]
    }
   ],
   "source": [
    "matrix = np.array([\n",
    "    [1, 0.5, 0.25, 2, 1, 0.5, 2],\n",
    "    [2, 1, 0.25, 0.5, 1, 0.5, 2],\n",
    "    [4, 4, 1, 2, 5, 2, 0.142],\n",
    "    [0.5, 2, 0.5, 1, 2, 1, 4],\n",
    "    [1, 1, 0.2, 0.5, 1, 0.5, 2],\n",
    "    [2, 2, 0.5, 1, 2, 1, 4],\n",
    "    [0.5, 0.5, 7, 0.25, 0.5, 0.25, 1]])\n",
    "\n",
    "normalized_matrix = matrix / matrix.sum(axis=1, keepdims=True)\n",
    "print(\"Нормализованная матрица:\\n\", normalized_matrix)"
   ]
  },
  {
   "cell_type": "code",
   "execution_count": 277,
   "metadata": {},
   "outputs": [
    {
     "name": "stdout",
     "output_type": "stream",
     "text": [
      "CI = (0.5230140224026594+0j)\n",
      "CR = (0.39622274424443893+0j)\n",
      "МПС несогласована!\n",
      "1 CI = (0.3172765558444972+0j)\n",
      "2 CI = (0.3490111768319502+0j)\n",
      "3 CI = (-0.10735911872128619+0j)\n",
      "4 CI = (0.32458515077366956+0j)\n",
      "5 CI = (0.34508108797220505+0j)\n",
      "6 CI = (0.362099097740607+0j)\n",
      "7 CI = (-0.10649746567621943+0j)\n",
      "Выброс: [3, 7] = 7.0\n"
     ]
    }
   ],
   "source": [
    "eigenvalues, _ = np.linalg.eig(matrix)\n",
    "λmax = max(eigenvalues)\n",
    "n = len(matrix)\n",
    "threshold = 0.1\n",
    "CI = (λmax - n)/(n - 1)\n",
    "print(f\"CI = {CI}\")\n",
    "CR = CI / 1.32\n",
    "print(f\"CR = {CR}\")\n",
    "if CR > threshold:\n",
    "    print(\"МПС несогласована!\")\n",
    "    \n",
    "\n",
    "CIs = []\n",
    "for i in range(len(matrix)):\n",
    "    m_copy = np.copy(matrix)\n",
    "    eigenvalues, _ = np.linalg.eig(np.delete(np.delete(matrix, i, axis=0), i, axis=1))\n",
    "    λmax = max(eigenvalues)\n",
    "    n = len(matrix)\n",
    "    CIs.append(((λmax - n)/(n - 1), i))\n",
    "    print(f\"{i + 1} CI = {CIs[i][0]}\")\n",
    "\n",
    "min_CIs = sorted(CIs)[:2]\n",
    "print(f\"Выброс: [{min_CIs[0][1] + 1}, {min_CIs[1][1] + 1}] = {matrix[min_CIs[1][1]][min_CIs[0][1]]}\")\n"
   ]
  },
  {
   "cell_type": "code",
   "execution_count": 278,
   "metadata": {},
   "outputs": [
    {
     "name": "stdout",
     "output_type": "stream",
     "text": [
      "Минимальный коэффициент корреляции для строки: -0.44768942874169837\n",
      "Индекс строки с минимальным коэффициентом корреляции: 7\n",
      "Минимальный коэффициент корреляции для столбца: -0.5288400366285384\n",
      "Индекс столбца с минимальным коэффициентом корреляции: 3\n"
     ]
    }
   ],
   "source": [
    "row_correlations = np.corrcoef(normalized_matrix)\n",
    "column_correlations = np.corrcoef(normalized_matrix, rowvar=False)\n",
    "min_row_corr_value = np.min(row_correlations[0, 1:])\n",
    "min_row_corr_index = np.argmin(row_correlations[0, 1:]) + 2\n",
    "min_column_corr_value = np.min(column_correlations[0, 1:])\n",
    "min_column_corr_index = np.argmin(column_correlations[0, 1:]) + 2\n",
    "\n",
    "print(\"Минимальный коэффициент корреляции для строки:\", min_row_corr_value)\n",
    "print(\"Индекс строки с минимальным коэффициентом корреляции:\", min_row_corr_index)\n",
    "print(\"Минимальный коэффициент корреляции для столбца:\", min_column_corr_value)\n",
    "print(\"Индекс столбца с минимальным коэффициентом корреляции:\", min_column_corr_index)"
   ]
  },
  {
   "cell_type": "code",
   "execution_count": 279,
   "metadata": {},
   "outputs": [
    {
     "name": "stdout",
     "output_type": "stream",
     "text": [
      "\n",
      "Эмпирическая матрица T:\n",
      "[[2. 4. 6. 0. 2. 4. 0.]\n",
      " [0. 2. 6. 4. 2. 4. 0.]\n",
      " [1. 1. 5. 3. 0. 3. 6.]\n",
      " [5. 1. 5. 3. 1. 3. 0.]\n",
      " [1. 1. 6. 4. 1. 4. 0.]\n",
      " [1. 1. 6. 4. 1. 4. 0.]\n",
      " [2. 2. 0. 5. 2. 5. 1.]]\n",
      "Матрица отклонений:\n",
      "[[ 1.86206897  3.93103448  5.96551724 -0.27586207  1.86206897  3.93103448\n",
      "  -0.27586207]\n",
      " [-0.27586207  1.86206897  5.96551724  3.93103448  1.86206897  3.93103448\n",
      "  -0.27586207]\n",
      " [ 0.77951714  0.77951714  4.94487929  2.88975857 -0.27560357  2.88975857\n",
      "   5.99217286]\n",
      " [ 4.95454545  0.81818182  4.95454545  2.90909091  0.81818182  2.90909091\n",
      "  -0.36363636]\n",
      " [ 0.83870968  0.83870968  5.96774194  3.91935484  0.83870968  3.91935484\n",
      "  -0.32258065]\n",
      " [ 0.84        0.84        5.96        3.92        0.84        3.92\n",
      "  -0.32      ]\n",
      " [ 1.95        1.95       -0.7         4.975       1.95        4.975\n",
      "   0.9       ]]\n",
      "Математическое ожидание M(∆) = 0.0029154518950437317\n",
      "Дисперсия Var(∆) = 0.0006998330767409577\n",
      "Стандартное отклонение StdDev(∆) = 0.026454358369481536\n",
      "Выбросы: []\n"
     ]
    }
   ],
   "source": [
    "D = normalized_matrix\n",
    "def build_empirical_matrix(arr):\n",
    "    n_rows, n_cols = arr.shape\n",
    "    T = np.zeros((n_rows, n_cols))\n",
    "\n",
    "    for i in range(n_rows):\n",
    "        for j in range(n_cols):\n",
    "            T[i, j] = np.sum(arr[i, :] > arr[i, j])\n",
    "\n",
    "    return T\n",
    "\n",
    "T = build_empirical_matrix(D)\n",
    "print(\"\\nЭмпирическая матрица T:\")\n",
    "print(T)\n",
    "\n",
    "deviation_matrix = T - D\n",
    "\n",
    "print(\"Матрица отклонений:\")\n",
    "print(deviation_matrix)\n",
    "\n",
    "n = D.shape[0] * D.shape[1]\n",
    "mean_delta = np.sum(D) / n**2\n",
    "\n",
    "var_delta = np.sum((D - mean_delta)**2) / (n**2 - 1)\n",
    "\n",
    "std_dev_delta = np.sqrt(var_delta)\n",
    "\n",
    "print(f\"Математическое ожидание M(∆) = {mean_delta}\")\n",
    "print(f\"Дисперсия Var(∆) = {var_delta}\")\n",
    "print(f\"Стандартное отклонение StdDev(∆) = {std_dev_delta}\")\n",
    "\n",
    "\n",
    "\n",
    "from scipy.stats import chi2\n",
    "\n",
    "def detect_outliers_matrix(data):\n",
    "    n_samples, n_dimensions = data.shape\n",
    "    \n",
    "    flattened_data = data.flatten()\n",
    "    mean = np.mean(flattened_data)\n",
    "    std_dev = np.std(flattened_data)\n",
    "    \n",
    "    chi2_crit = chi2.ppf(-0.00001,  df=n_samples * n_dimensions - 1)\n",
    "    \n",
    "    outliers = []\n",
    "    for value in flattened_data:\n",
    "        z_score = (value - mean) / std_dev\n",
    "        chi2_val = z_score ** 2\n",
    "        \n",
    "        if chi2_val > chi2_crit:\n",
    "            outliers.append(value)\n",
    "    \n",
    "    return outliers\n",
    "\n",
    "# Пример использования:\n",
    "data = matrix  # Многомерный массив данных\n",
    "outliers = detect_outliers_matrix(data)\n",
    "print(\"Выбросы:\", outliers)\n"
   ]
  },
  {
   "cell_type": "code",
   "execution_count": 283,
   "metadata": {},
   "outputs": [
    {
     "data": {
      "text/html": [
       "<div>\n",
       "<style scoped>\n",
       "    .dataframe tbody tr th:only-of-type {\n",
       "        vertical-align: middle;\n",
       "    }\n",
       "\n",
       "    .dataframe tbody tr th {\n",
       "        vertical-align: top;\n",
       "    }\n",
       "\n",
       "    .dataframe thead th {\n",
       "        text-align: right;\n",
       "    }\n",
       "</style>\n",
       "<table border=\"1\" class=\"dataframe\">\n",
       "  <thead>\n",
       "    <tr style=\"text-align: right;\">\n",
       "      <th></th>\n",
       "      <th>α</th>\n",
       "      <th>WGMM</th>\n",
       "      <th>WAMM</th>\n",
       "      <th>Consistency Ratio</th>\n",
       "      <th>Weights</th>\n",
       "      <th>Deviation</th>\n",
       "      <th>Std Deviation</th>\n",
       "    </tr>\n",
       "  </thead>\n",
       "  <tbody>\n",
       "    <tr>\n",
       "      <th>0</th>\n",
       "      <td>0.5</td>\n",
       "      <td>[0.33637732426088945, 0.33637732426088945, 0.3...</td>\n",
       "      <td>[0.35773626931456143, 0.35773626931456143, 0.3...</td>\n",
       "      <td>[0.021358945053671974, 0.021358945053671974, 0...</td>\n",
       "      <td>[0.43808884803361425, 0.43808884803361425, 0.8...</td>\n",
       "      <td>0.027378</td>\n",
       "      <td>0.011600</td>\n",
       "    </tr>\n",
       "    <tr>\n",
       "      <th>1</th>\n",
       "      <td>0.6</td>\n",
       "      <td>[0.2705154374487822, 0.2705154374487822, 0.243...</td>\n",
       "      <td>[0.2953431181015082, 0.29534311810150815, 0.29...</td>\n",
       "      <td>[0.024827680652726003, 0.024827680652725947, 0...</td>\n",
       "      <td>[0.43044502373182825, 0.43044502373182725, 0.8...</td>\n",
       "      <td>0.031703</td>\n",
       "      <td>0.013380</td>\n",
       "    </tr>\n",
       "    <tr>\n",
       "      <th>2</th>\n",
       "      <td>0.7</td>\n",
       "      <td>[0.21754915275248968, 0.21754915275248968, 0.1...</td>\n",
       "      <td>[0.2448676551476235, 0.2448676551476235, 0.241...</td>\n",
       "      <td>[0.02731850239513381, 0.02731850239513381, 0.0...</td>\n",
       "      <td>[0.4213820046144948, 0.4213820046144948, 0.757...</td>\n",
       "      <td>0.034821</td>\n",
       "      <td>0.014776</td>\n",
       "    </tr>\n",
       "    <tr>\n",
       "      <th>3</th>\n",
       "      <td>0.8</td>\n",
       "      <td>[0.1749535416894158, 0.1749535416894158, 0.152...</td>\n",
       "      <td>[0.20383995365985103, 0.203839953659851, 0.202...</td>\n",
       "      <td>[0.028886411970435233, 0.028886411970435205, 0...</td>\n",
       "      <td>[0.4109856182101731, 0.4109856182101727, 0.710...</td>\n",
       "      <td>0.036827</td>\n",
       "      <td>0.015856</td>\n",
       "    </tr>\n",
       "    <tr>\n",
       "      <th>4</th>\n",
       "      <td>0.9</td>\n",
       "      <td>[0.14069805081932166, 0.14069805081932166, 0.1...</td>\n",
       "      <td>[0.17033744949395604, 0.17033744949395604, 0.1...</td>\n",
       "      <td>[0.029639398674634387, 0.029639398674634387, 0...</td>\n",
       "      <td>[0.3993643152660942, 0.3993643152660942, 0.665...</td>\n",
       "      <td>0.037871</td>\n",
       "      <td>0.016685</td>\n",
       "    </tr>\n",
       "  </tbody>\n",
       "</table>\n",
       "</div>"
      ],
      "text/plain": [
       "     α                                               WGMM  \\\n",
       "0  0.5  [0.33637732426088945, 0.33637732426088945, 0.3...   \n",
       "1  0.6  [0.2705154374487822, 0.2705154374487822, 0.243...   \n",
       "2  0.7  [0.21754915275248968, 0.21754915275248968, 0.1...   \n",
       "3  0.8  [0.1749535416894158, 0.1749535416894158, 0.152...   \n",
       "4  0.9  [0.14069805081932166, 0.14069805081932166, 0.1...   \n",
       "\n",
       "                                                WAMM  \\\n",
       "0  [0.35773626931456143, 0.35773626931456143, 0.3...   \n",
       "1  [0.2953431181015082, 0.29534311810150815, 0.29...   \n",
       "2  [0.2448676551476235, 0.2448676551476235, 0.241...   \n",
       "3  [0.20383995365985103, 0.203839953659851, 0.202...   \n",
       "4  [0.17033744949395604, 0.17033744949395604, 0.1...   \n",
       "\n",
       "                                   Consistency Ratio  \\\n",
       "0  [0.021358945053671974, 0.021358945053671974, 0...   \n",
       "1  [0.024827680652726003, 0.024827680652725947, 0...   \n",
       "2  [0.02731850239513381, 0.02731850239513381, 0.0...   \n",
       "3  [0.028886411970435233, 0.028886411970435205, 0...   \n",
       "4  [0.029639398674634387, 0.029639398674634387, 0...   \n",
       "\n",
       "                                             Weights  Deviation  Std Deviation  \n",
       "0  [0.43808884803361425, 0.43808884803361425, 0.8...   0.027378       0.011600  \n",
       "1  [0.43044502373182825, 0.43044502373182725, 0.8...   0.031703       0.013380  \n",
       "2  [0.4213820046144948, 0.4213820046144948, 0.757...   0.034821       0.014776  \n",
       "3  [0.4109856182101731, 0.4109856182101727, 0.710...   0.036827       0.015856  \n",
       "4  [0.3993643152660942, 0.3993643152660942, 0.665...   0.037871       0.016685  "
      ]
     },
     "execution_count": 283,
     "metadata": {},
     "output_type": "execute_result"
    }
   ],
   "source": [
    "\n",
    "scores_matrix = normalized_matrix\n",
    "\n",
    "alphas = [0.5, 0.6, 0.7, 0.8, 0.9]\n",
    "\n",
    "def compute_wgmm(scores, alpha):\n",
    "    wgmm_result = np.prod(scores ** alpha, axis=1) ** (1 / scores.shape[1])\n",
    "    return wgmm_result\n",
    "\n",
    "def compute_wamm(scores, alpha):\n",
    "    wamm_result = np.mean(scores ** alpha, axis=1)\n",
    "    return wamm_result\n",
    "\n",
    "results = []\n",
    "for alpha in alphas:\n",
    "    wgmm = compute_wgmm(scores_matrix, alpha)\n",
    "    wamm = compute_wamm(scores_matrix, alpha)\n",
    "    consistency_ratio = np.abs(wgmm - wamm)\n",
    "    weights = np.abs(wgmm - wamm) / np.max(np.abs(wgmm - wamm))\n",
    "    deviation = np.mean(consistency_ratio)\n",
    "    std_deviation = np.std(consistency_ratio)\n",
    "    results.append((alpha, wgmm, wamm, consistency_ratio, weights, deviation, std_deviation))\n",
    "\n",
    "columns = [\"α\", \"WGMM\", \"WAMM\", \"Consistency Ratio\", \"Weights\", \"Deviation\", \"Std Deviation\"]\n",
    "import pandas as pd\n",
    "df = pd.DataFrame(results, columns=columns)\n",
    "\n",
    "df\n"
   ]
  },
  {
   "cell_type": "code",
   "execution_count": 282,
   "metadata": {},
   "outputs": [
    {
     "name": "stdout",
     "output_type": "stream",
     "text": [
      "Согласованные веса по методу треугольника: [0.14130306 0.14326231 0.14203672 0.14886905 0.14046434 0.15431315\n",
      " 0.1231731 ]\n"
     ]
    }
   ],
   "source": [
    "def calculate_weights_triangle(comparison_matrix):\n",
    "    n = comparison_matrix.shape[0]\n",
    "    weights = np.zeros(n)\n",
    "    \n",
    "    for i in range(n):\n",
    "        ae_index = i\n",
    "        temp_matrix = np.delete(np.delete(comparison_matrix, ae_index, axis=0), ae_index, axis=1)\n",
    "        weights_temp = np.sum(temp_matrix, axis=1) / (n - 1)\n",
    "        weights[i] = np.mean(weights_temp)\n",
    "    return weights\n",
    "\n",
    "\n",
    "weights_triangle = calculate_weights_triangle(normalized_matrix)\n",
    "print(\"Согласованные веса по методу треугольника:\", weights_triangle)"
   ]
  }
 ],
 "metadata": {
  "kernelspec": {
   "display_name": "Python 3",
   "language": "python",
   "name": "python3"
  },
  "language_info": {
   "codemirror_mode": {
    "name": "ipython",
    "version": 3
   },
   "file_extension": ".py",
   "mimetype": "text/x-python",
   "name": "python",
   "nbconvert_exporter": "python",
   "pygments_lexer": "ipython3",
   "version": "3.11.9"
  }
 },
 "nbformat": 4,
 "nbformat_minor": 2
}
