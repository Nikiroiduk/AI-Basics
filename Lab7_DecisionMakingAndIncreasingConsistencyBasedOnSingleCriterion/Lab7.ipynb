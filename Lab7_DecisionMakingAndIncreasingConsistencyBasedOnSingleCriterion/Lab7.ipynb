{
 "cells": [
  {
   "cell_type": "markdown",
   "metadata": {},
   "source": [
    "#### Вариант №5\n",
    "\n",
    "||Первый|Второй|Третий|Четвертый|\n",
    "|---|---|---|---|---|\n",
    "|Первый|1|2|3|1|\n",
    "|Второй|0.5|1|3|1|\n",
    "|Третий|0.33|0.33|1|0.5|\n",
    "|Четвертый|1|1|2|1|"
   ]
  },
  {
   "cell_type": "code",
   "execution_count": 73,
   "metadata": {},
   "outputs": [],
   "source": [
    "import numpy as np"
   ]
  },
  {
   "cell_type": "code",
   "execution_count": 74,
   "metadata": {},
   "outputs": [
    {
     "name": "stdout",
     "output_type": "stream",
     "text": [
      "Нормализованная матрица: \n",
      " [[0.14285714 0.28571429 0.42857143 0.14285714]\n",
      " [0.09090909 0.18181818 0.54545455 0.18181818]\n",
      " [0.15277778 0.15277778 0.46296296 0.23148148]\n",
      " [0.2        0.2        0.4        0.2       ]]\n"
     ]
    }
   ],
   "source": [
    "matrix = np.array([\n",
    "    [1, 2, 3, 1],\n",
    "    [0.5, 1, 3, 1],\n",
    "    [0.33, 0.33, 1, 0.5],\n",
    "    [1, 1, 2, 1]\n",
    "])\n",
    "\n",
    "normalized_matrix = matrix / matrix.sum(axis=1, keepdims=True)\n",
    "\n",
    "print(\"Нормализованная матрица: \\n\", normalized_matrix)\n"
   ]
  },
  {
   "cell_type": "code",
   "execution_count": 75,
   "metadata": {},
   "outputs": [
    {
     "name": "stdout",
     "output_type": "stream",
     "text": [
      "λmax: (4.076676945835413+0j)\n",
      "Собственные значения: [ 4.07667695+0.j         -0.00691074+0.57590852j -0.00691074-0.57590852j\n",
      " -0.06285547+0.j        ]\n",
      "Собственные векторы:\n",
      " [[ 0.68112955+0.j         -0.73125975+0.j         -0.73125975-0.j\n",
      "  -0.56687091+0.j        ]\n",
      " [ 0.47987697+0.j          0.09529148-0.47933042j  0.09529148+0.47933042j\n",
      "   0.34046658+0.j        ]\n",
      " [ 0.20780645+0.j          0.16483358+0.03174468j  0.16483358-0.03174468j\n",
      "  -0.26062109+0.j        ]\n",
      " [ 0.5124423 +0.j          0.0512296 +0.44228809j  0.0512296 -0.44228809j\n",
      "   0.70343197+0.j        ]]\n",
      "Главный собственный вектор: [0.68112955+0.j 0.47987697+0.j 0.20780645+0.j 0.5124423 +0.j]\n",
      "Вектор весов (приоритетов): [0.36206121+0.j 0.25508339+0.j 0.11046159+0.j 0.27239382+0.j]\n"
     ]
    }
   ],
   "source": [
    "eigenvalues, eigenvectors = np.linalg.eig(matrix)\n",
    "max_index = np.argmax(eigenvalues)\n",
    "principal_eigenvector = eigenvectors[:, max_index]\n",
    "weights = principal_eigenvector / np.sum(principal_eigenvector)\n",
    "λmax = max(eigenvalues)\n",
    "\n",
    "print(\"λmax:\", λmax)\n",
    "print(\"Собственные значения:\", eigenvalues)\n",
    "print(\"Собственные векторы:\\n\", eigenvectors)\n",
    "print(\"Главный собственный вектор:\", principal_eigenvector)\n",
    "print(\"Вектор весов (приоритетов):\", weights)"
   ]
  },
  {
   "cell_type": "markdown",
   "metadata": {},
   "source": [
    "##### EM"
   ]
  },
  {
   "cell_type": "code",
   "execution_count": 76,
   "metadata": {},
   "outputs": [
    {
     "name": "stdout",
     "output_type": "stream",
     "text": [
      "Веса каналов (метод ЕМ): [0.14416284 0.20462238 0.46266194 0.18855284]\n"
     ]
    }
   ],
   "source": [
    "eigenvalues, eigenvectors = np.linalg.eig(matrix.T)\n",
    "max_eigenvalue_index = np.argmax(eigenvalues)\n",
    "weights = np.real_if_close(eigenvectors[:, max_eigenvalue_index].T / np.sum(eigenvectors[:, max_eigenvalue_index]))\n",
    "\n",
    "print(\"Веса каналов (метод ЕМ):\", weights)"
   ]
  },
  {
   "cell_type": "markdown",
   "metadata": {},
   "source": [
    "##### RGMM"
   ]
  },
  {
   "cell_type": "code",
   "execution_count": 77,
   "metadata": {},
   "outputs": [
    {
     "name": "stdout",
     "output_type": "stream",
     "text": [
      "Веса каналов (метод RGMM): [0.36028387 0.25475916 0.11120043 0.27375654]\n"
     ]
    }
   ],
   "source": [
    "geometric_means = np.power(np.prod(matrix, axis=1), 1/len(matrix))\n",
    "weights_rgmm = geometric_means / np.sum(geometric_means)\n",
    "\n",
    "print(\"Веса каналов (метод RGMM):\", weights_rgmm)\n"
   ]
  },
  {
   "cell_type": "markdown",
   "metadata": {},
   "source": [
    "##### AN"
   ]
  },
  {
   "cell_type": "code",
   "execution_count": 78,
   "metadata": {},
   "outputs": [
    {
     "name": "stdout",
     "output_type": "stream",
     "text": [
      "Веса каналов (метод AN): [0.14416284 0.20462238 0.46266194 0.18855284]\n"
     ]
    }
   ],
   "source": [
    "eigenvalues_an, eigenvectors_an = np.linalg.eig(matrix.T)\n",
    "max_eigenvalue_index_an = np.argmax(eigenvalues_an)\n",
    "weights_an = np.real_if_close(eigenvectors_an[:, max_eigenvalue_index_an].T / np.sum(eigenvectors_an[:, max_eigenvalue_index_an]))\n",
    "\n",
    "print(\"Веса каналов (метод AN):\", weights_an)"
   ]
  },
  {
   "cell_type": "markdown",
   "metadata": {},
   "source": [
    "##### Линия"
   ]
  },
  {
   "cell_type": "code",
   "execution_count": 80,
   "metadata": {},
   "outputs": [
    {
     "name": "stdout",
     "output_type": "stream",
     "text": [
      "Веса каналов (метод 'линия'): {'A': 0.11111111111111112, 'C': 0.6666666666666667, 'D': 0.22222222222222224, 'B': 0.2222222222222222}\n"
     ]
    }
   ],
   "source": [
    "preference_values = {\n",
    "    'A': 0.5,\n",
    "    'C': 3,\n",
    "    'D': 1,\n",
    "}\n",
    "\n",
    "weight_b = 1 / sum(preference_values.values())\n",
    "\n",
    "weights_line_method = {}\n",
    "for alternative in preference_values:\n",
    "    weight = preference_values[alternative] * weight_b\n",
    "    weights_line_method[alternative] = weight\n",
    "\n",
    "total_weight = sum(weights_line_method.values())\n",
    "normalized_weights_line_method = {alternative: weight / total_weight for alternative, weight in weights_line_method.items()}\n",
    "\n",
    "normalized_weights_line_method['B'] = weight_b\n",
    "\n",
    "print(\"Веса каналов (метод 'линия'):\", normalized_weights_line_method)\n"
   ]
  },
  {
   "cell_type": "markdown",
   "metadata": {},
   "source": [
    "##### MRCI"
   ]
  },
  {
   "cell_type": "code",
   "execution_count": 81,
   "metadata": {},
   "outputs": [
    {
     "name": "stdout",
     "output_type": "stream",
     "text": [
      "Индексы согласованности для сгенерированных матриц:\n",
      "Матрица 1: CI = 2.3814146926906563\n",
      "Матрица 2: CI = 5.061826900016203\n",
      "Матрица 3: CI = 5.863392539432122\n",
      "Матрица 4: CI = 5.607132139994474\n",
      "Матрица 5: CI = 5.254664644135521\n",
      "Матрица 6: CI = 4.910900031562323\n",
      "Матрица 7: CI = 5.830432378739388\n",
      "Матрица 8: CI = 4.841594432131781\n",
      "Матрица 9: CI = 5.163725625081753\n",
      "Матрица 10: CI = 5.481838687753211\n",
      "\n",
      "Среднее значение индексов согласованности (MRCI): 5.0396922071537436\n"
     ]
    }
   ],
   "source": [
    "def calculate_CI(matrix):\n",
    "    eigenvalues, _ = np.linalg.eig(matrix)\n",
    "    max_index = np.argmax(eigenvalues)\n",
    "    max_eigenvalue = eigenvalues[max_index].real\n",
    "    n = len(matrix)\n",
    "    CI = (max_eigenvalue - n) / (n - 1)\n",
    "    return CI\n",
    "\n",
    "num_matrices = 10\n",
    "matrix_size = 4\n",
    "\n",
    "CI_values = []\n",
    "\n",
    "for _ in range(num_matrices):\n",
    "    random_matrix = np.random.randint(1, 10, size=(matrix_size, matrix_size))\n",
    "    CI = calculate_CI(random_matrix)\n",
    "    CI_values.append(CI)\n",
    "\n",
    "MRCI = np.mean(CI_values)\n",
    "\n",
    "print(\"Индексы согласованности для сгенерированных матриц:\")\n",
    "for i, CI in enumerate(CI_values, 1):\n",
    "    print(f\"Матрица {i}: CI = {CI}\")\n",
    "\n",
    "print(f\"\\nСреднее значение индексов согласованности (MRCI): {MRCI}\")\n"
   ]
  },
  {
   "cell_type": "markdown",
   "metadata": {},
   "source": [
    "$$\n",
    "CI = \\frac{λ_{max} - n}{n - 1}\n",
    "$$"
   ]
  },
  {
   "cell_type": "code",
   "execution_count": 82,
   "metadata": {},
   "outputs": [
    {
     "name": "stdout",
     "output_type": "stream",
     "text": [
      "CI: (0.02555898194513754+0j)\n"
     ]
    }
   ],
   "source": [
    "CI = (λmax - len(matrix)) / (len(matrix) - 1)\n",
    "print(\"CI:\", CI)"
   ]
  },
  {
   "cell_type": "markdown",
   "metadata": {},
   "source": [
    "$$\n",
    "CR = \\frac{CI}{MRCI}\n",
    "$$"
   ]
  },
  {
   "cell_type": "code",
   "execution_count": 83,
   "metadata": {},
   "outputs": [
    {
     "name": "stdout",
     "output_type": "stream",
     "text": [
      "Отношение согласованности CR: (0.005071536295184272+0j)\n"
     ]
    }
   ],
   "source": [
    "CR = CI/MRCI\n",
    "\n",
    "print(\"Отношение согласованности CR:\", CR)"
   ]
  },
  {
   "cell_type": "markdown",
   "metadata": {},
   "source": [
    "$$\n",
    "GCI = \\frac{λ_{max} - n}{n - 1}\n",
    "$$"
   ]
  },
  {
   "cell_type": "code",
   "execution_count": 84,
   "metadata": {},
   "outputs": [
    {
     "name": "stdout",
     "output_type": "stream",
     "text": [
      "Геометрический индекс согласованности GCI: (0.02555898194513754+0j)\n"
     ]
    }
   ],
   "source": [
    "GCI = (λmax - len(matrix)) / (len(matrix) - 1)\n",
    "print(\"Геометрический индекс согласованности GCI:\", GCI)"
   ]
  },
  {
   "cell_type": "markdown",
   "metadata": {},
   "source": [
    "##### HM(s)"
   ]
  },
  {
   "cell_type": "code",
   "execution_count": 85,
   "metadata": {},
   "outputs": [
    {
     "name": "stdout",
     "output_type": "stream",
     "text": [
      "Гармоническое среднее для строки 1: 0.3479773814702044\n",
      "Гармоническое среднее для строки 2: 0.24257125530624618\n",
      "Гармоническое среднее для строки 3: 0.10610932475884245\n",
      "Гармоническое среднее для строки 4: 0.2638522427440633\n"
     ]
    }
   ],
   "source": [
    "def calculate_hm(row):\n",
    "    n = len(row)\n",
    "    harmonic_sum = sum(1 / element for element in row)\n",
    "    hm = n / harmonic_sum\n",
    "    return hm\n",
    "\n",
    "HMs = [calculate_hm(row) for row in normalized_matrix]\n",
    "\n",
    "for i, hm in enumerate(HMs):\n",
    "    print(f\"Гармоническое среднее для строки {i + 1}: {hm}\")"
   ]
  },
  {
   "cell_type": "markdown",
   "metadata": {},
   "source": [
    "$$\n",
    "HCI(n) = \\frac{(HM(s) - n)(n + 1)}{n(n-1)}\n",
    "$$"
   ]
  },
  {
   "cell_type": "code",
   "execution_count": 89,
   "metadata": {},
   "outputs": [
    {
     "name": "stdout",
     "output_type": "stream",
     "text": [
      "Гармонический индекс согласованности (HCI): (0.0283988688279306+0j)\n"
     ]
    }
   ],
   "source": [
    "n = matrix.shape[0]\n",
    "RI = {3: 0.58, 4: 0.9, 5: 1.12, 6: 1.24, 7: 1.32, 8: 1.41, 9: 1.45, 10: 1.49}[n]\n",
    "HCI = CI / RI\n",
    "\n",
    "print(\"Гармонический индекс согласованности (HCI):\", HCI)"
   ]
  },
  {
   "cell_type": "markdown",
   "metadata": {},
   "source": [
    "##### HRCI(n)"
   ]
  },
  {
   "cell_type": "markdown",
   "metadata": {},
   "source": [
    "$$\n",
    "HCR(n)=\\frac{HCI(n)}{HRCI(n)}\n",
    "$$"
   ]
  },
  {
   "cell_type": "code",
   "execution_count": 90,
   "metadata": {},
   "outputs": [
    {
     "name": "stdout",
     "output_type": "stream",
     "text": [
      "Гармонические отношения согласованности HCR: (0.03190884137969731+0j)\n"
     ]
    }
   ],
   "source": [
    "HCR = HCI / 0.89\n",
    "print(\"Гармонические отношения согласованности HCR:\", HCR)"
   ]
  },
  {
   "cell_type": "markdown",
   "metadata": {},
   "source": [
    "$$\n",
    "\\begin{align*}\n",
    "k_c &= \\min_{h=1,\\dots,5} k_c(R_h) \n",
    "\\end{align*}\n",
    "$$"
   ]
  },
  {
   "cell_type": "code",
   "execution_count": 91,
   "metadata": {},
   "outputs": [
    {
     "name": "stdout",
     "output_type": "stream",
     "text": [
      "Спектральный коэффициент согласованности (kc): (0.24999999999999983-0j)\n"
     ]
    }
   ],
   "source": [
    "def calculate_spectrum(matrix):\n",
    "    eigenvalues, eigenvectors = np.linalg.eig(matrix)\n",
    "    max_index = np.argmax(eigenvalues)\n",
    "    principal_eigenvector = eigenvectors[:, max_index]\n",
    "    return principal_eigenvector / np.sum(principal_eigenvector)\n",
    "\n",
    "n_matrices = 5\n",
    "\n",
    "spectra = []\n",
    "for _ in range(n_matrices):\n",
    "    random_matrix = np.random.rand(normalized_matrix.shape[0], normalized_matrix.shape[1])\n",
    "    random_matrix /= random_matrix.sum(axis=1)[:, np.newaxis]\n",
    "    spectrum = calculate_spectrum(random_matrix)\n",
    "    spectra.append(spectrum)\n",
    "\n",
    "kc_values = [np.min(kc) for kc in spectra]\n",
    "kc = min(kc_values)\n",
    "\n",
    "print(\"Спектральный коэффициент согласованности (kc):\", kc)"
   ]
  },
  {
   "cell_type": "code",
   "execution_count": 172,
   "metadata": {},
   "outputs": [
    {
     "name": "stdout",
     "output_type": "stream",
     "text": [
      "Нормализованная матрица:\n",
      " [[0.13793103 0.06896552 0.03448276 0.27586207 0.13793103 0.06896552\n",
      "  0.27586207]\n",
      " [0.27586207 0.13793103 0.03448276 0.06896552 0.13793103 0.06896552\n",
      "  0.27586207]\n",
      " [0.22048286 0.22048286 0.05512071 0.11024143 0.27560357 0.11024143\n",
      "  0.00782714]\n",
      " [0.04545455 0.18181818 0.04545455 0.09090909 0.18181818 0.09090909\n",
      "  0.36363636]\n",
      " [0.16129032 0.16129032 0.03225806 0.08064516 0.16129032 0.08064516\n",
      "  0.32258065]\n",
      " [0.16       0.16       0.04       0.08       0.16       0.08\n",
      "  0.32      ]\n",
      " [0.05       0.05       0.7        0.025      0.05       0.025\n",
      "  0.1       ]]\n"
     ]
    }
   ],
   "source": [
    "matrix = np.array([\n",
    "    [1, 0.5, 0.25, 2, 1, 0.5, 2],\n",
    "    [2, 1, 0.25, 0.5, 1, 0.5, 2],\n",
    "    [4, 4, 1, 2, 5, 2, 0.142],\n",
    "    [0.5, 2, 0.5, 1, 2, 1, 4],\n",
    "    [1, 1, 0.2, 0.5, 1, 0.5, 2],\n",
    "    [2, 2, 0.5, 1, 2, 1, 4],\n",
    "    [0.5, 0.5, 7, 0.25, 0.5, 0.25, 1]])\n",
    "\n",
    "normalized_matrix = matrix / matrix.sum(axis=1, keepdims=True)\n",
    "print(\"Нормализованная матрица:\\n\", normalized_matrix)"
   ]
  },
  {
   "cell_type": "code",
   "execution_count": 177,
   "metadata": {},
   "outputs": [
    {
     "name": "stdout",
     "output_type": "stream",
     "text": [
      "CI = (0.5230140224026594+0j)\n",
      "CR = (0.39622274424443893+0j)\n",
      "МПС несогласована!\n",
      "1 CI = (0.3172765558444972+0j)\n",
      "2 CI = (0.3490111768319502+0j)\n",
      "3 CI = (-0.10735911872128619+0j)\n",
      "4 CI = (0.32458515077366956+0j)\n",
      "5 CI = (0.34508108797220505+0j)\n",
      "6 CI = (0.362099097740607+0j)\n",
      "7 CI = (-0.10649746567621943+0j)\n",
      "Выброс: [3, 7] = 7.0\n"
     ]
    }
   ],
   "source": [
    "eigenvalues, _ = np.linalg.eig(matrix)\n",
    "λmax = max(eigenvalues)\n",
    "n = len(matrix)\n",
    "threshold = 0.1\n",
    "CI = (λmax - n)/(n - 1)\n",
    "print(f\"CI = {CI}\")\n",
    "CR = CI / 1.32\n",
    "print(f\"CR = {CR}\")\n",
    "if CR > threshold:\n",
    "    print(\"МПС несогласована!\")\n",
    "    \n",
    "\n",
    "CIs = []\n",
    "for i in range(len(matrix)):\n",
    "    m_copy = np.copy(matrix)\n",
    "    eigenvalues, _ = np.linalg.eig(np.delete(np.delete(matrix, i, axis=0), i, axis=1))\n",
    "    λmax = max(eigenvalues)\n",
    "    n = len(matrix)\n",
    "    CIs.append(((λmax - n)/(n - 1), i))\n",
    "    print(f\"{i + 1} CI = {CIs[i][0]}\")\n",
    "\n",
    "min_CIs = sorted(CIs)[:2]\n",
    "print(f\"Выброс: [{min_CIs[0][1] + 1}, {min_CIs[1][1] + 1}] = {matrix[min_CIs[1][1]][min_CIs[0][1]]}\")\n"
   ]
  },
  {
   "cell_type": "code",
   "execution_count": 188,
   "metadata": {},
   "outputs": [
    {
     "name": "stdout",
     "output_type": "stream",
     "text": [
      "Матрица коэффициентов корреляции:\n",
      "[[ 1.          0.42690058 -0.29616234  0.51507269  0.5511879   0.54437945\n",
      "  -0.44768943]\n",
      " [ 0.42690058  1.          0.09768303  0.51507269  0.85105697  0.84923193\n",
      "  -0.41221215]\n",
      " [-0.29616234  0.09768303  1.         -0.2600425  -0.09370505 -0.1082304\n",
      "  -0.42761568]\n",
      " [ 0.51507269  0.51507269 -0.2600425   1.          0.88778812  0.89000667\n",
      "  -0.29759498]\n",
      " [ 0.5511879   0.85105697 -0.09370505  0.88778812  1.          0.99960413\n",
      "  -0.42819028]\n",
      " [ 0.54437945  0.84923193 -0.1082304   0.89000667  0.99960413  1.\n",
      "  -0.40259536]\n",
      " [-0.44768943 -0.41221215 -0.42761568 -0.29759498 -0.42819028 -0.40259536\n",
      "   1.        ]]\n",
      "\n",
      "Элемент d16 (и соответственно d61) МПС D – выброс.\n"
     ]
    }
   ],
   "source": [
    "D = normalized_matrix\n",
    "\n",
    "\n",
    "correlation_matrix = np.corrcoef(D)\n",
    "M_Rir = np.mean(D, axis=1)\n",
    "\n",
    "M_Ric = np.mean(D, axis=0)\n",
    "\n",
    "min_index_Rir = np.argmin(M_Rir)\n",
    "min_index_Ric = np.argmin(M_Ric)\n",
    "\n",
    "outlier_row = min_index_Rir + 1\n",
    "outlier_column = min_index_Ric + 1\n",
    "\n",
    "print(f\"Матрица коэффициентов корреляции:\\n{correlation_matrix}\\n\")\n",
    "print(f\"Элемент d{outlier_row}{outlier_column} (и соответственно d{outlier_column}{outlier_row}) МПС D – выброс.\")"
   ]
  }
 ],
 "metadata": {
  "kernelspec": {
   "display_name": "Python 3",
   "language": "python",
   "name": "python3"
  },
  "language_info": {
   "codemirror_mode": {
    "name": "ipython",
    "version": 3
   },
   "file_extension": ".py",
   "mimetype": "text/x-python",
   "name": "python",
   "nbconvert_exporter": "python",
   "pygments_lexer": "ipython3",
   "version": "3.11.9"
  }
 },
 "nbformat": 4,
 "nbformat_minor": 2
}
