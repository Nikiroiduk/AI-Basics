{
 "cells": [
  {
   "cell_type": "markdown",
   "metadata": {},
   "source": [
    "##### Вариант№5 \n",
    "\n",
    "Отсеки № 1, 3, 4\n",
    "\n",
    "Типы груза № 1, 4, 5, 6, 7\n",
    "\n",
    "| Тип груза | Вес, т | Объем, м³ | Цена | Количество |\n",
    "|    ---    |   ---  |     ---    | --- |     ---    |\n",
    "| Мини-тракторы | 0,35 | 3 | 8 | 100 |\n",
    "| Металлопрокат | 35 | 6 | 275 | 200 |\n",
    "| Пиломатериалы | 4 | 6 | 110 | 350 | \n",
    "| Трубы | 2,5 | 7,6 | 34,5 | 600 |\n",
    "| Фарфор | 0,25 | 1 | 9 | 500 |\n",
    "\n",
    "---\n",
    "\n",
    "|Отсек| Объем, м³| Загрузка, т. |\n",
    "|---|---|---|\n",
    "|1|500|700|\n",
    "|3|1500|1300|\n",
    "|4|1200|700|"
   ]
  },
  {
   "cell_type": "markdown",
   "metadata": {},
   "source": [
    "$$\n",
    "Целевая \\ функция \\\\\n",
    "f(x) = 8x_1 + 275x_2 + 110x_3+34.5_4+9x_5 $$"
   ]
  },
  {
   "cell_type": "markdown",
   "metadata": {},
   "source": [
    "$$\n",
    "Условия-ограничения \\\\ первый \\ отсек \\\\\n",
    "3x_1 + 6x_2 + 5x_3 + 7.6x_4 + x_5 \\leq 500 \\\\\n",
    "0.35x_1 + 35x_2 + 4x_3 + 2.5x_4 + 0.25x_5 \\leq 700 \\\\\n",
    "x_1 \\leq 100; \\\n",
    "x_2 \\leq 200; \\\n",
    "x_3 \\leq 350; \\\n",
    "x_4 \\leq 600; \\\n",
    "x_5 \\leq 500 \\\n",
    "$$"
   ]
  },
  {
   "cell_type": "markdown",
   "metadata": {},
   "source": [
    "$$\n",
    "Условия-ограничения \\\\ второй \\ отсек \\\\\n",
    "3x_1 + 6x_2 + 5x_3 + 7.6x_4 + x_5 \\leq 1500 \\\\\n",
    "0.35x_1 + 35x_2 + 4x_3 + 2.5x_4 + 0.25x_5 \\leq 1300 \n",
    "$$"
   ]
  },
  {
   "cell_type": "markdown",
   "metadata": {},
   "source": [
    "$$\n",
    "Условия-ограничения \\\\ третий \\ отсек \\\\\n",
    "3x_1 + 6x_2 + 5x_3 + 7.6x_4 + x_5 \\leq 1200 \\\\\n",
    "0.35x_1 + 35x_2 + 4x_3 + 2.5x_4 + 0.25x_5 \\leq 700 \n",
    "$$"
   ]
  },
  {
   "cell_type": "code",
   "execution_count": 113,
   "metadata": {},
   "outputs": [],
   "source": [
    "from scipy.optimize import linprog"
   ]
  },
  {
   "cell_type": "code",
   "execution_count": 114,
   "metadata": {},
   "outputs": [],
   "source": [
    "items = ['Мини-тракторы', 'Металлопрокат', 'Пиломатериалы', 'Трубы', 'Фарфор'] \n",
    "profitG = 0\n",
    "\n",
    "obj = [-8, -275, -110, -34.5, -9]\n",
    "\n",
    "lhs = [\n",
    "    [3, 6, 5, 7.6, 1],\n",
    "    [0.35, 35, 4, 2.5, 0.25],\n",
    "    [1, 0, 0, 0, 0],\n",
    "    [0, 1, 0, 0, 0],\n",
    "    [0, 0, 1, 0, 0],\n",
    "    [0, 0, 0, 1, 0],\n",
    "    [0, 0, 0, 0, 1]\n",
    "]\n",
    "\n",
    "rhs = [0, 0, 100, 200, 350, 600, 500]"
   ]
  },
  {
   "cell_type": "markdown",
   "metadata": {},
   "source": [
    "### Первый отсек"
   ]
  },
  {
   "cell_type": "code",
   "execution_count": 115,
   "metadata": {},
   "outputs": [
    {
     "name": "stdout",
     "output_type": "stream",
     "text": [
      "x1 = 0.0\n",
      "x2 = 9.933774834437086\n",
      "x3 = 88.0794701986755\n",
      "x4 = 0.0\n",
      "x5 = 0.0\n",
      "\n",
      "Прибыль: 12420.529801324505\n",
      "Суммарная прибыль: 12420.529801324505\n",
      "\n",
      "Использованная масса = 700.0 т.\n",
      "Заполненный объем = 500.0 м^3\n",
      "\n",
      "Остаток на складе:\n",
      "Мини-тракторы - 100.0\n",
      "Металлопрокат - 190.0662251655629\n",
      "Пиломатериалы - 261.9205298013245\n",
      "Трубы - 600.0\n",
      "Фарфор - 500.0\n"
     ]
    }
   ],
   "source": [
    "rhs[:2] = [500, 700]\n",
    "\n",
    "opt = linprog(c=obj, A_ub=lhs, b_ub=rhs, method='highs')\n",
    "rhs[2:] -= opt.x\n",
    "\n",
    "vol = 0\n",
    "mas = 0\n",
    "profit = 0\n",
    "for (i, val) in enumerate(opt.x.tolist()):\n",
    "    vol += val * lhs[0][i]\n",
    "    mas += val * lhs[1][i]\n",
    "    profit += val * (obj[i] *  -1)\n",
    "    print(f'x{i+1} = {val}')\n",
    "profitG += profit\n",
    "print(f'\\nПрибыль: {profit}')\n",
    "print(f'Суммарная прибыль: {profitG}')\n",
    "print('\\nИспользованная масса = {} т.\\nЗаполненный объем = {} м^3'.format(mas, vol))\n",
    "print('\\nОстаток на складе:')\n",
    "for (i, val) in enumerate(items):\n",
    "    print(f'{val} - {rhs[i + 2]}')"
   ]
  },
  {
   "cell_type": "markdown",
   "metadata": {},
   "source": [
    "### Второй отсек"
   ]
  },
  {
   "cell_type": "code",
   "execution_count": 116,
   "metadata": {},
   "outputs": [
    {
     "name": "stdout",
     "output_type": "stream",
     "text": [
      "x1 = 0.0\n",
      "x2 = 6.111001284965898\n",
      "x3 = 261.9205298013245\n",
      "x4 = 0.0\n",
      "x5 = 153.7313432835822\n",
      "\n",
      "Прибыль: 31875.365721063557\n",
      "Суммарная прибыль: 44295.89552238806\n",
      "\n",
      "Использованная масса = 1300.0 т.\n",
      "Заполненный объем = 1500.0 м^3\n",
      "\n",
      "Остаток на складе:\n",
      "Мини-тракторы - 100.0\n",
      "Металлопрокат - 183.955223880597\n",
      "Пиломатериалы - 0.0\n",
      "Трубы - 600.0\n",
      "Фарфор - 346.2686567164178\n"
     ]
    }
   ],
   "source": [
    "rhs[:2] = [1500, 1300]\n",
    "\n",
    "opt = linprog(c=obj, A_ub=lhs, b_ub=rhs, method='highs')\n",
    "rhs[2:] -= opt.x\n",
    "\n",
    "vol = 0\n",
    "mas = 0\n",
    "profit = 0\n",
    "for (i, val) in enumerate(opt.x.tolist()):\n",
    "    vol += val * lhs[0][i]\n",
    "    mas += val * lhs[1][i]\n",
    "    profit += val * (obj[i] *  -1)\n",
    "    print(f'x{i+1} = {val}')\n",
    "profitG += profit\n",
    "print(f'\\nПрибыль: {profit}')\n",
    "print(f'Суммарная прибыль: {profitG}')\n",
    "print('\\nИспользованная масса = {} т.\\nЗаполненный объем = {} м^3'.format(mas, vol))\n",
    "print('\\nОстаток на складе:')\n",
    "for (i, val) in enumerate(items):\n",
    "    print(f'{val} - {rhs[i + 2]}')"
   ]
  },
  {
   "cell_type": "markdown",
   "metadata": {},
   "source": [
    "### Третий отсек"
   ]
  },
  {
   "cell_type": "code",
   "execution_count": 117,
   "metadata": {},
   "outputs": [
    {
     "name": "stdout",
     "output_type": "stream",
     "text": [
      "x1 = 0.0\n",
      "x2 = 10.07076172920259\n",
      "x3 = -0.0\n",
      "x4 = 104.38247011952193\n",
      "x5 = 346.2686567164178\n",
      "\n",
      "Прибыль: 9487.07260510198\n",
      "Суммарная прибыль: 53782.96812749004\n",
      "\n",
      "Использованная масса = 699.9999999999999 т.\n",
      "Заполненный объем = 1200.0 м^3\n",
      "\n",
      "Остаток на складе:\n",
      "Мини-тракторы - 100.0\n",
      "Металлопрокат - 173.88446215139442\n",
      "Пиломатериалы - 0.0\n",
      "Трубы - 495.61752988047806\n",
      "Фарфор - 0.0\n"
     ]
    }
   ],
   "source": [
    "rhs[:2] = [1200, 700]\n",
    "\n",
    "opt = linprog(c=obj, A_ub=lhs, b_ub=rhs, method='highs')\n",
    "rhs[2:] -= opt.x\n",
    "\n",
    "vol = 0\n",
    "mas = 0\n",
    "profit = 0\n",
    "for (i, val) in enumerate(opt.x.tolist()):\n",
    "    vol += val * lhs[0][i]\n",
    "    mas += val * lhs[1][i]\n",
    "    profit += val * (obj[i] *  -1)\n",
    "    print(f'x{i+1} = {val}')\n",
    "profitG += profit\n",
    "print(f'\\nПрибыль: {profit}')\n",
    "print(f'Суммарная прибыль: {profitG}')\n",
    "print('\\nИспользованная масса = {} т.\\nЗаполненный объем = {} м^3'.format(mas, vol))\n",
    "print('\\nОстаток на складе:')\n",
    "for (i, val) in enumerate(items):\n",
    "    print(f'{val} - {rhs[i + 2]}')"
   ]
  }
 ],
 "metadata": {
  "kernelspec": {
   "display_name": "Python 3",
   "language": "python",
   "name": "python3"
  },
  "language_info": {
   "codemirror_mode": {
    "name": "ipython",
    "version": 3
   },
   "file_extension": ".py",
   "mimetype": "text/x-python",
   "name": "python",
   "nbconvert_exporter": "python",
   "pygments_lexer": "ipython3",
   "version": "3.11.9"
  }
 },
 "nbformat": 4,
 "nbformat_minor": 2
}
